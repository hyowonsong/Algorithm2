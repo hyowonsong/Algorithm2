{
 "cells": [
  {
   "cell_type": "code",
   "execution_count": null,
   "id": "4e69b4c2-bb47-42ce-b037-314f88feb34a",
   "metadata": {},
   "outputs": [],
   "source": [
    "# 8519. 태국 택시\n",
    "\n",
    "# 입력 받기\n",
    "N, M = map(int, input().split())\n",
    "edges = []\n",
    "for _ in range(M):\n",
    "    a, b, c = map(int, input().split())\n",
    "    edges.append((a-1, b-1, c))  # 인덱스를 0부터 사용하기 위해 1을 뺌\n",
    "\n",
    "def find(parent, x):\n",
    "    if parent[x] == x:\n",
    "        return x\n",
    "    parent[x] = find(parent, parent[x])\n",
    "    return parent[x]\n",
    "\n",
    "def union(parent, a, b):\n",
    "    rootA = find(parent, a)\n",
    "    rootB = find(parent, b)\n",
    "\n",
    "    if rootA < rootB:\n",
    "        parent[rootB] = rootA\n",
    "    else:\n",
    "        parent[rootA] = rootB\n",
    "\n",
    "def kruskal(edges, n):\n",
    "    edges.sort(key=lambda x: x[2])\n",
    "    parent = [i for i in range(n)]\n",
    "    min_cost = 0\n",
    "\n",
    "    for edge in edges:\n",
    "        u, v, cost = edge\n",
    "        if find(parent, u) != find(parent, v):\n",
    "            union(parent, u, v)\n",
    "            min_cost += cost\n",
    "\n",
    "    return min_cost\n",
    "\n",
    "# 택시 예약에 적어도 필요한 최소 비용 계산\n",
    "min_cost = kruskal(edges, N)\n",
    "print(min_cost)\n"
   ]
  }
 ],
 "metadata": {
  "kernelspec": {
   "display_name": "Python 3 (ipykernel)",
   "language": "python",
   "name": "python3"
  },
  "language_info": {
   "codemirror_mode": {
    "name": "ipython",
    "version": 3
   },
   "file_extension": ".py",
   "mimetype": "text/x-python",
   "name": "python",
   "nbconvert_exporter": "python",
   "pygments_lexer": "ipython3",
   "version": "3.9.7"
  }
 },
 "nbformat": 4,
 "nbformat_minor": 5
}
