{
 "cells": [
  {
   "cell_type": "code",
   "execution_count": null,
   "id": "f3ee8e98-dc13-43ba-8e54-9afcd067de5a",
   "metadata": {},
   "outputs": [],
   "source": [
    "# 8551 효율적인 화폐 구성\n",
    "# 가치의 합이 M이 되게 하는 동전 개수의 최솟값\n",
    "\n",
    "# 풀이1. dp 로 풀기\n",
    "def solution(N, M, coins):\n",
    "    dp = [10001] * (M + 1)  \n",
    "    dp[0] = 0 \n",
    "\n",
    "    for coin in coins:\n",
    "        for i in range(coin, M + 1):\n",
    "            # 현재 동전 가치를 사용하여 가치 i를 만드는 방법 중 최소 동전 개수 갱신\n",
    "            dp[i] = min(dp[i], dp[i - coin] + 1)\n",
    "\n",
    "    # 가치 M을 만드는 최소 동전의 개수 반환\n",
    "    return dp[M] if dp[M] != 10001 else -1\n",
    "\n",
    "# 입력 받기\n",
    "N, M = map(int, input().split())\n",
    "coins = [int(input()) for _ in range(N)]\n",
    "\n",
    "# 결과 출력\n",
    "print(solution(N, M, coins))"
   ]
  }
 ],
 "metadata": {
  "kernelspec": {
   "display_name": "Python 3 (ipykernel)",
   "language": "python",
   "name": "python3"
  },
  "language_info": {
   "codemirror_mode": {
    "name": "ipython",
    "version": 3
   },
   "file_extension": ".py",
   "mimetype": "text/x-python",
   "name": "python",
   "nbconvert_exporter": "python",
   "pygments_lexer": "ipython3",
   "version": "3.9.7"
  }
 },
 "nbformat": 4,
 "nbformat_minor": 5
}
