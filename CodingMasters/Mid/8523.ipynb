{
 "cells": [
  {
   "cell_type": "code",
   "execution_count": null,
   "id": "5dbb0296-7f37-4ad3-8e38-ea089ff55bd8",
   "metadata": {},
   "outputs": [],
   "source": [
    "# 8523 숫자 맞추기\n",
    "\n",
    "from collections import deque\n",
    "\n",
    "N, K = map(int, input().split())\n",
    "\n",
    "def solution(N, K):\n",
    "    queue = deque([(K, 0)])  # 시작 숫자와 현재까지의 횟수를 저장하는 큐\n",
    "    visited = set()  # 방문한 숫자를 저장하는 집합\n",
    "\n",
    "    while queue:\n",
    "        current, steps = queue.popleft()\n",
    "\n",
    "        if current == N:  # 목표 숫자에 도달했을 때\n",
    "            return steps\n",
    "\n",
    "        # 현재 숫자에서 가능한 다음 숫자들을 계산하여 큐에 추가\n",
    "        next_numbers = [current + 1, current - 1, current * 2]\n",
    "        for next_num in next_numbers:\n",
    "            if 0 <= next_num <= 100000 and next_num not in visited:\n",
    "                queue.append((next_num, steps + 1))\n",
    "                visited.add(next_num)\n",
    "\n",
    "\n",
    "# 결과 출력\n",
    "print(solution(N, K))"
   ]
  }
 ],
 "metadata": {
  "kernelspec": {
   "display_name": "Python 3 (ipykernel)",
   "language": "python",
   "name": "python3"
  },
  "language_info": {
   "codemirror_mode": {
    "name": "ipython",
    "version": 3
   },
   "file_extension": ".py",
   "mimetype": "text/x-python",
   "name": "python",
   "nbconvert_exporter": "python",
   "pygments_lexer": "ipython3",
   "version": "3.9.7"
  }
 },
 "nbformat": 4,
 "nbformat_minor": 5
}
