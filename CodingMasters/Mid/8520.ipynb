{
 "cells": [
  {
   "cell_type": "code",
   "execution_count": null,
   "id": "073574ae-0ce1-4c4e-9a1c-aac6ce2bd4fa",
   "metadata": {},
   "outputs": [],
   "source": [
    "# 8520 컴퓨터 학원\n",
    "\n",
    "N = int(input())\n",
    "\n",
    "def solution(N):\n",
    "    if N == 1:\n",
    "        return 3\n",
    "    dp = [0] * (N + 1)\n",
    "    dp[1] = 3\n",
    "    dp[2] = 7\n",
    "    \n",
    "    for i in range(3, N + 1):\n",
    "        dp[i] = (dp[i-1] * 2 + dp[i-2]) % 796796\n",
    "    \n",
    "    return dp[N]\n",
    "\n",
    "print(solution(N))"
   ]
  }
 ],
 "metadata": {
  "kernelspec": {
   "display_name": "Python 3 (ipykernel)",
   "language": "python",
   "name": "python3"
  },
  "language_info": {
   "codemirror_mode": {
    "name": "ipython",
    "version": 3
   },
   "file_extension": ".py",
   "mimetype": "text/x-python",
   "name": "python",
   "nbconvert_exporter": "python",
   "pygments_lexer": "ipython3",
   "version": "3.9.7"
  }
 },
 "nbformat": 4,
 "nbformat_minor": 5
}
