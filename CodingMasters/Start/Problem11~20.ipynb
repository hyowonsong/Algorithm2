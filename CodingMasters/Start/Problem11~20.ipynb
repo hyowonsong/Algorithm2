{
 "cells": [
  {
   "cell_type": "markdown",
   "id": "8c6f637a-fe92-401e-b612-3b321e417176",
   "metadata": {},
   "source": [
    "## 코딩 마스터즈 초급 11~20"
   ]
  },
  {
   "cell_type": "code",
   "execution_count": 1,
   "id": "ebc602e4-a3de-4e9f-9d8b-ae32f32ed026",
   "metadata": {},
   "outputs": [
    {
     "name": "stdin",
     "output_type": "stream",
     "text": [
      " 5\n",
      " 180 170 162 163 190\n"
     ]
    },
    {
     "name": "stdout",
     "output_type": "stream",
     "text": [
      "P\n"
     ]
    }
   ],
   "source": [
    "# 8479 림보게임\n",
    "# 총 3단계의 높이\n",
    "# N 단계의 높이가 입력되면 모두 통과할 수 있는지 체크\n",
    "\n",
    "# 1. 모두 통과하면 P\n",
    "# 2. 림보에 걸리면 I 출력한 뒤에 림보의 높이 출력\n",
    "# 3. 림보의 높이와 키가 같으면 통과 X\n",
    "\n",
    "# 입력값 받기\n",
    "N = int(input())\n",
    "heights = list(map(int, input().split()))\n",
    "\n",
    "# 건혁의 최대 높이 설정\n",
    "max_height = 160\n",
    "\n",
    "pass_game = True\n",
    "first_bump_height = None\n",
    "\n",
    "# 림보 게임 통과 여부 판단\n",
    "for height in heights:\n",
    "    if height <= max_height:\n",
    "        pass_game = False\n",
    "        first_bump_height = height\n",
    "        break\n",
    "\n",
    "# 결과 출력\n",
    "if pass_game:\n",
    "    print(\"P\")\n",
    "else:\n",
    "    print(\"I\", first_bump_height)   "
   ]
  },
  {
   "cell_type": "code",
   "execution_count": 2,
   "id": "0490bcc5-3e38-4d95-a1b2-6215a3e52cb3",
   "metadata": {},
   "outputs": [
    {
     "name": "stdin",
     "output_type": "stream",
     "text": [
      " 5630\n"
     ]
    },
    {
     "name": "stdout",
     "output_type": "stream",
     "text": [
      "6\n"
     ]
    }
   ],
   "source": [
    "# 8480 아까운 쿠폰\n",
    "\n",
    "N = int(input())\n",
    "\n",
    "coupons = [50000, 10000, 5000, 1000, 500, 100, 50, 10]\n",
    "min_coupons = 0\n",
    "\n",
    "for coupon in coupons:\n",
    "    count = N // coupon  # 해당 단위의 쿠폰 개수 계산\n",
    "    min_coupons += count  # 쿠폰의 최소 개수에 추가\n",
    "    N -= count * coupon  # 남은 금액 업데이트\n",
    "\n",
    "# 결과 출력\n",
    "print(min_coupons)"
   ]
  },
  {
   "cell_type": "code",
   "execution_count": 3,
   "id": "7f5b6ac3-0be3-42a7-b126-6dddb21b616c",
   "metadata": {},
   "outputs": [
    {
     "name": "stdin",
     "output_type": "stream",
     "text": [
      " 4\n",
      " jung 51\n",
      " dong 160\n",
      " back 120\n",
      " pang 89\n"
     ]
    },
    {
     "name": "stdout",
     "output_type": "stream",
     "text": [
      "dong\n",
      "back\n",
      "pang\n"
     ]
    }
   ],
   "source": [
    "# 8481. 우리반 아이큐왕은\n",
    "\n",
    "N = int(input())\n",
    "\n",
    "# 학생들의 정보 입력받기\n",
    "students = []\n",
    "for index in range(N):\n",
    "    name, iq = input().split()\n",
    "    # IQ를 정수형으로 변환하여 저장하고, 입력된 순서를 함께 저장\n",
    "    students.append((name, int(iq), index))\n",
    "\n",
    "# IQ를 기준으로 내림차순 정렬, IQ가 같을 경우 입력된 순서를 기준으로 오름차순 정렬\n",
    "def sort_key(student):\n",
    "    return (-student[1], student[2]) \n",
    "\n",
    "students.sort(key=sort_key)\n",
    "\n",
    "# 상위 3명의 이름 출력\n",
    "def print_top_3(students):\n",
    "    for i in range(min(3, len(students))):\n",
    "        print(students[i][0])\n",
    "\n",
    "print_top_3(students)"
   ]
  },
  {
   "cell_type": "code",
   "execution_count": 4,
   "id": "a22077c0-25b0-4e08-9d44-dd97e132ac66",
   "metadata": {},
   "outputs": [
    {
     "name": "stdin",
     "output_type": "stream",
     "text": [
      " 4\n"
     ]
    },
    {
     "name": "stdout",
     "output_type": "stream",
     "text": [
      "40\n"
     ]
    }
   ],
   "source": [
    "# 8482. 10배\n",
    "\n",
    "# 가영은 숫자 10을 너무나 사랑합니다.\n",
    "# 자연수가 입력되면 바로 그 10배가 출력\n",
    "\n",
    "n = int(input())\n",
    "\n",
    "print(int(n*10))"
   ]
  },
  {
   "cell_type": "code",
   "execution_count": 5,
   "id": "fd9bd0ba-b10d-4983-a797-cf5e6bbe2d1d",
   "metadata": {},
   "outputs": [
    {
     "name": "stdin",
     "output_type": "stream",
     "text": [
      " Are you?\n"
     ]
    },
    {
     "name": "stdout",
     "output_type": "stream",
     "text": [
      "No\n"
     ]
    }
   ],
   "source": [
    "# 8483. You\n",
    "# 챗봇은 You라고 입력하면 Me, 그 외의 모든 경우의 입력에는 No라고 답합니다.\n",
    "\n",
    "n = input()\n",
    "\n",
    "if n == 'You':\n",
    "    print('Me')\n",
    "else:\n",
    "    print('No')"
   ]
  },
  {
   "cell_type": "code",
   "execution_count": 6,
   "id": "1f9d1b5b-f682-4b2f-9125-7bdb8fd1fc18",
   "metadata": {},
   "outputs": [
    {
     "name": "stdin",
     "output_type": "stream",
     "text": [
      " 5\n"
     ]
    },
    {
     "name": "stdout",
     "output_type": "stream",
     "text": [
      "2\n"
     ]
    }
   ],
   "source": [
    "# 8484 3으로 나눈 나머지\n",
    "# 냉장고에 넣어둘 조각의 최소 개수 구하기\n",
    "\n",
    "n = int(input())\n",
    "\n",
    "print(n%3)"
   ]
  },
  {
   "cell_type": "code",
   "execution_count": 7,
   "id": "f4e13911-a606-4eae-8228-c0e70d1a0d00",
   "metadata": {},
   "outputs": [
    {
     "name": "stdin",
     "output_type": "stream",
     "text": [
      " 7\n"
     ]
    },
    {
     "name": "stdout",
     "output_type": "stream",
     "text": [
      "0\n"
     ]
    }
   ],
   "source": [
    "# 8485 16배로 나누어 출력하기\n",
    "\n",
    "n = int(input())\n",
    "\n",
    "print(n//16)"
   ]
  },
  {
   "cell_type": "code",
   "execution_count": 8,
   "id": "c1248de6-301a-4704-952e-a3b0b641ff3e",
   "metadata": {},
   "outputs": [
    {
     "name": "stdin",
     "output_type": "stream",
     "text": [
      " 10\n"
     ]
    },
    {
     "name": "stdout",
     "output_type": "stream",
     "text": [
      "314\n"
     ]
    }
   ],
   "source": [
    "# 8486 원의 넓이\n",
    "\n",
    "n = int(input())\n",
    "\n",
    "area = n * n * 3.14\n",
    "\n",
    "if area == int(area):\n",
    "    print(int(area))\n",
    "else:\n",
    "    print(area)\n"
   ]
  },
  {
   "cell_type": "code",
   "execution_count": 9,
   "id": "aa39ba17-f8a8-4d60-8978-944510bcab28",
   "metadata": {},
   "outputs": [
    {
     "name": "stdin",
     "output_type": "stream",
     "text": [
      " 124 512\n"
     ]
    },
    {
     "name": "stdout",
     "output_type": "stream",
     "text": [
      "4\n"
     ]
    }
   ],
   "source": [
    "# 8487 최대공약수\n",
    "\n",
    "N, M = map(int,input().split())\n",
    "\n",
    "gcd = 1\n",
    "\n",
    "\n",
    "for i in range(1, min(N,M)+1):       #  둘중에 작은 아이까지\n",
    "    if N%i == 0 and M%i == 0:\n",
    "        gcd = i\n",
    "        \n",
    "print(gcd)"
   ]
  },
  {
   "cell_type": "code",
   "execution_count": 10,
   "id": "b652b696-3bef-4b61-8d9c-409eee0330c2",
   "metadata": {},
   "outputs": [
    {
     "name": "stdin",
     "output_type": "stream",
     "text": [
      " 978\n"
     ]
    },
    {
     "name": "stdout",
     "output_type": "stream",
     "text": [
      "165\n"
     ]
    }
   ],
   "source": [
    "## 8488 소수구하기 (2보다 크거나 같아야 하고 2이상인 숫자와 나누어서 떨어지면 안된다.)\n",
    "\n",
    "n= int(input())\n",
    "count= 0\n",
    "\n",
    "for num in range(2,n+1):\n",
    "    is_prime = True\n",
    "    for i in range(2, int(num**0.5)+1):\n",
    "        if num%i == 0 :\n",
    "            is_prime = False\n",
    "            break\n",
    "    if is_prime:\n",
    "        count+=1\n",
    "print(count)"
   ]
  }
 ],
 "metadata": {
  "kernelspec": {
   "display_name": "Python 3 (ipykernel)",
   "language": "python",
   "name": "python3"
  },
  "language_info": {
   "codemirror_mode": {
    "name": "ipython",
    "version": 3
   },
   "file_extension": ".py",
   "mimetype": "text/x-python",
   "name": "python",
   "nbconvert_exporter": "python",
   "pygments_lexer": "ipython3",
   "version": "3.9.7"
  }
 },
 "nbformat": 4,
 "nbformat_minor": 5
}
