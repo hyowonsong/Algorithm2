{
 "cells": [
  {
   "cell_type": "code",
   "execution_count": null,
   "id": "70844cd5-7aa0-46c3-816a-1beca5bf541b",
   "metadata": {},
   "outputs": [],
   "source": [
    "# 8474 가장 큰 나머지\n",
    "# 23을 5로 나누면 나머지 3, 7로 나누면 2\n",
    "# 5와 7로 나누었을 때의 나머지 중 더 큰 나머지를 출력\n",
    "\n",
    "n = int(input())\n",
    "\n",
    "a1 = n%5\n",
    "a2 = n%7\n",
    "\n",
    "print(max(a1,a2))"
   ]
  },
  {
   "cell_type": "code",
   "execution_count": null,
   "id": "004269ee-10c2-4be3-939c-f6954b36215d",
   "metadata": {},
   "outputs": [],
   "source": [
    "# 8475 1등급 한우\n",
    "\n",
    "# 200kg 이상인 소에게는 A등급\n",
    "# 180kg 이상인 소에게는 B등급\n",
    "# 150kg 이상은 C등급\n",
    "# 나머지는 D등급\n",
    "\n",
    "n = int(input())\n",
    "\n",
    "if n>=200:\n",
    "    print('A')\n",
    "elif n>=180:\n",
    "    print('B')\n",
    "elif n>=150:\n",
    "    print('C')\n",
    "else:\n",
    "    print('D')"
   ]
  },
  {
   "cell_type": "code",
   "execution_count": null,
   "id": "572f3eff-32c0-4e3c-82c2-edd02f7ef576",
   "metadata": {},
   "outputs": [],
   "source": [
    "# 8476 자녀의 키는\n",
    "\n",
    "A, B = map(int,input().split())\n",
    "C = (A+B)/2\n",
    "\n",
    "print(int(C))"
   ]
  },
  {
   "cell_type": "code",
   "execution_count": null,
   "id": "65c9f6e6-c7d3-4745-89e9-0317dd9ea911",
   "metadata": {},
   "outputs": [],
   "source": [
    "# 8477 삼각형의 조건\n",
    "\n",
    "# 삼각형 내각의 합은 180도, 각각의 각의 크기가 0보다 커야.\n",
    "\n",
    "A,B,C = map(int,input().split())\n",
    "sum = A+B+C\n",
    "\n",
    "if A>=0 and B>=0 and C>=0 and sum>=180:\n",
    "    print('P')\n",
    "else:\n",
    "    print('F')"
   ]
  },
  {
   "cell_type": "code",
   "execution_count": null,
   "id": "545c8505-e56e-4b15-9825-a22a3f59d91d",
   "metadata": {},
   "outputs": [],
   "source": [
    "# 8478 기억상실\n",
    "\n",
    "# 오늘 무엇인가를 외우면 잠을 자면서 잊는 증세\n",
    "# 하루에 A개 외우고 B개 까먹는다.\n",
    "\n",
    "import math\n",
    "a,b,v=map(int,input().split())\n",
    "\n",
    "day= (v-b)/(a-b)\n",
    "print(math.ceil(day))"
   ]
  }
 ],
 "metadata": {
  "kernelspec": {
   "display_name": "Python 3 (ipykernel)",
   "language": "python",
   "name": "python3"
  },
  "language_info": {
   "codemirror_mode": {
    "name": "ipython",
    "version": 3
   },
   "file_extension": ".py",
   "mimetype": "text/x-python",
   "name": "python",
   "nbconvert_exporter": "python",
   "pygments_lexer": "ipython3",
   "version": "3.9.7"
  }
 },
 "nbformat": 4,
 "nbformat_minor": 5
}
