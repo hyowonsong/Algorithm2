{
 "cells": [
  {
   "cell_type": "markdown",
   "id": "dbe16f25-ea2a-4067-9ff0-6e59527acb19",
   "metadata": {},
   "source": [
    "# Algorithm 1~5"
   ]
  },
  {
   "cell_type": "code",
   "execution_count": null,
   "id": "4ec27501-2961-4f7e-97c6-a0b2d626c554",
   "metadata": {},
   "outputs": [],
   "source": [
    "# 8469 비밀번호 찾기\n",
    "\n",
    "n = input().split()\n",
    "\n",
    "password = \"\"\n",
    "\n",
    "for char in n:\n",
    "    password+= char + \" \"\n",
    "    if char == 'c':\n",
    "        break\n",
    "\n",
    "print(password)"
   ]
  },
  {
   "cell_type": "code",
   "execution_count": null,
   "id": "0810d51a-fb0e-4319-891b-b0947caf71a5",
   "metadata": {},
   "outputs": [],
   "source": [
    "### 8470 등차수열\n",
    "\n",
    "# 연속하는 두 항의 차이가 모두 일정한 수열\n",
    "# A : 첫 번째 항, B : 두항의 차이 , N: N번째 항\n",
    "\n",
    "A, B, N = map(int, input().split())\n",
    "\n",
    "def sequence(A, B, N):\n",
    "    return A + (N - 1) * B\n",
    "\n",
    "\n",
    "print(sequence(A, B, N))"
   ]
  },
  {
   "cell_type": "code",
   "execution_count": null,
   "id": "f1b1826f-6b39-4533-ae72-8837e646d47b",
   "metadata": {},
   "outputs": [],
   "source": [
    "# 8진수와 16진수\n",
    "\n",
    "# 수학시간에 어떤 음이 아닌 정수 N를 b진수로 표현하는 방법\n",
    "# 그 수를 0이 될 때까지 b로 나누고, 그 나머지를 거꾸로 읽어 올라간다.\n",
    "\n",
    "# N을 8진수와 16진수로 표현\n",
    "\n",
    "N = int(input())\n",
    "\n",
    "def solution(N, base):\n",
    "    result = \"\"\n",
    "    \n",
    "    while N > 0:\n",
    "        digit = N % base \n",
    "        if digit >= 10:                                       # 나머지가 10보다 크다면 \n",
    "            result = chr(ord('A') + digit - 10) + result\n",
    "        else:                                                 # 나머지가 10보다 작다면\n",
    "            result = str(digit) + result\n",
    "        N = N // base\n",
    "    \n",
    "    return result\n",
    "\n",
    "print(solution(N, 8), solution(N, 16))"
   ]
  },
  {
   "cell_type": "code",
   "execution_count": null,
   "id": "067c1505-0830-4f98-aa7a-db593ca03b91",
   "metadata": {},
   "outputs": [],
   "source": [
    "# 입력값 받기\n",
    "A = int(input())\n",
    "\n",
    "# 정수를 아스키 문자로 변환하는 함수\n",
    "def solution(A):\n",
    "    return chr(A)\n",
    "\n",
    "# 아스키 문자로 변환하여 출력\n",
    "print(solution(A))"
   ]
  },
  {
   "cell_type": "code",
   "execution_count": null,
   "id": "dd713552-02a9-41f7-b54f-08507393c6f7",
   "metadata": {},
   "outputs": [],
   "source": [
    "# 8473 아이디 만들기\n",
    "# 아이디는 영어로만 쓸 수 있고 20글자를 넘으면 안된다. \n",
    "\n",
    "n = input()\n",
    "\n",
    "if len(n)>20:\n",
    "    print('I')\n",
    "else:\n",
    "    print(P)"
   ]
  }
 ],
 "metadata": {
  "kernelspec": {
   "display_name": "Python 3 (ipykernel)",
   "language": "python",
   "name": "python3"
  },
  "language_info": {
   "codemirror_mode": {
    "name": "ipython",
    "version": 3
   },
   "file_extension": ".py",
   "mimetype": "text/x-python",
   "name": "python",
   "nbconvert_exporter": "python",
   "pygments_lexer": "ipython3",
   "version": "3.9.7"
  }
 },
 "nbformat": 4,
 "nbformat_minor": 5
}
