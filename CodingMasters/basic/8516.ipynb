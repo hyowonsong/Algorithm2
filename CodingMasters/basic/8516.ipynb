{
 "cells": [
  {
   "cell_type": "code",
   "execution_count": null,
   "id": "fd6205f4-f630-4351-99c8-c356430eedc1",
   "metadata": {},
   "outputs": [],
   "source": [
    "# 8516. 문서 통계(성공)\n",
    "\n",
    "n = input()\n",
    "\n",
    "def solution(document):\n",
    "    total = len(document)\n",
    "    non_space= len(document.replace(\" \", \"\"))\n",
    "\n",
    "    words = document.split()\n",
    "    word_count = len(words)\n",
    "\n",
    "    return total, non_space, word_count\n",
    "\n",
    "\n",
    "# 결과 출력\n",
    "total, non_space, word_count = solution(document)\n",
    "print(total)\n",
    "print(non_space)\n",
    "print(word_count)"
   ]
  }
 ],
 "metadata": {
  "kernelspec": {
   "display_name": "Python 3 (ipykernel)",
   "language": "python",
   "name": "python3"
  },
  "language_info": {
   "codemirror_mode": {
    "name": "ipython",
    "version": 3
   },
   "file_extension": ".py",
   "mimetype": "text/x-python",
   "name": "python",
   "nbconvert_exporter": "python",
   "pygments_lexer": "ipython3",
   "version": "3.9.7"
  }
 },
 "nbformat": 4,
 "nbformat_minor": 5
}
