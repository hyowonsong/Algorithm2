{
 "cells": [
  {
   "cell_type": "code",
   "execution_count": null,
   "id": "3a86b0c2-c3e8-4754-aa9f-a3dd06be615e",
   "metadata": {},
   "outputs": [],
   "source": [
    "# 8518. 직각 삼각형(성공)\n",
    "\n",
    "a, b, c = map(int, input().split())\n",
    "\n",
    "def solution(a, b, c):\n",
    "    # 가장 긴 변을 찾습니다.\n",
    "    max_side = max(a, b, c)\n",
    "    \n",
    "    # 가장 긴 변의 제곱이 나머지 두 변의 제곱의 합과 같으면 직각삼각형입니다.\n",
    "    if max_side ** 2 == (a ** 2 + b ** 2 + c ** 2 - max_side ** 2):\n",
    "        return \"YES\"\n",
    "    else:\n",
    "        return \"NO\"\n",
    "\n",
    "# 직각삼각형인지 판별하고 결과를 출력합니다.\n",
    "print(solution(a, b, c))"
   ]
  }
 ],
 "metadata": {
  "kernelspec": {
   "display_name": "Python 3 (ipykernel)",
   "language": "python",
   "name": "python3"
  },
  "language_info": {
   "codemirror_mode": {
    "name": "ipython",
    "version": 3
   },
   "file_extension": ".py",
   "mimetype": "text/x-python",
   "name": "python",
   "nbconvert_exporter": "python",
   "pygments_lexer": "ipython3",
   "version": "3.9.7"
  }
 },
 "nbformat": 4,
 "nbformat_minor": 5
}
