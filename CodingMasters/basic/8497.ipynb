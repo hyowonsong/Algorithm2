{
 "cells": [
  {
   "cell_type": "code",
   "execution_count": null,
   "id": "cdb0b9ce-ae13-4363-9ece-b195cf37a45b",
   "metadata": {},
   "outputs": [],
   "source": [
    "# 8497 계단\n",
    "# 민수는 계단을 세 칸 위로 올라가거나 한 칸 아래로 내려갈 수 있습니다. \n",
    "\n",
    "from collections import deque\n",
    "\n",
    "def solution(N, K):\n",
    "    visited = [False] * (2 * K + 1)\n",
    "    queue = deque([(N, 0)])  # (현재 위치, 이동 횟수)\n",
    "\n",
    "    while queue:\n",
    "        current, moves = queue.popleft()\n",
    "\n",
    "        if current == K:\n",
    "            return moves\n",
    "\n",
    "        # 세 칸 위로 올라가는 경우\n",
    "        up_stair = current + 3\n",
    "        if up_stair <= 2 * K and not visited[up_stair]:\n",
    "            visited[up_stair] = True\n",
    "            queue.append((up_stair, moves + 1))\n",
    "\n",
    "        # 한 칸 아래로 내려가는 경우\n",
    "        down_stair = current - 1\n",
    "        if down_stair > 0 and not visited[down_stair]:\n",
    "            visited[down_stair] = True\n",
    "            queue.append((down_stair, moves + 1))\n",
    "\n",
    "# 입력값 받기\n",
    "N, K = map(int, input().split())\n",
    "\n",
    "# 결과 출력\n",
    "print(solution(N, K))"
   ]
  }
 ],
 "metadata": {
  "kernelspec": {
   "display_name": "Python 3 (ipykernel)",
   "language": "python",
   "name": "python3"
  },
  "language_info": {
   "codemirror_mode": {
    "name": "ipython",
    "version": 3
   },
   "file_extension": ".py",
   "mimetype": "text/x-python",
   "name": "python",
   "nbconvert_exporter": "python",
   "pygments_lexer": "ipython3",
   "version": "3.9.7"
  }
 },
 "nbformat": 4,
 "nbformat_minor": 5
}
