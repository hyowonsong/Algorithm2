{
 "cells": [
  {
   "cell_type": "code",
   "execution_count": null,
   "id": "4d619e28-8e6f-483b-8634-15aca7c0da75",
   "metadata": {},
   "outputs": [],
   "source": [
    "# 8517. 피보나치 수열\n",
    "\n",
    "def fibonacci(n):\n",
    "    if n <= 2:\n",
    "        return 1\n",
    "    else:\n",
    "        fib = [1, 1]\n",
    "        for i in range(2, n):\n",
    "            fib.append(fib[i-1] + fib[i-2])\n",
    "        return fib[n-1]\n",
    "\n",
    "def fibonacci_fibonacci_sum(a, b):\n",
    "    fib_sequence = []\n",
    "    for i in range(1, b+1):\n",
    "        fib_sequence.extend([fibonacci(i)] * fibonacci(i))\n",
    "    \n",
    "    return sum(fib_sequence[a-1:b])\n",
    "\n",
    "# 입력 받기\n",
    "a, b = map(int, input().split())\n",
    "\n",
    "# 결과 출력\n",
    "print(fibonacci_fibonacci_sum(a, b))"
   ]
  }
 ],
 "metadata": {
  "kernelspec": {
   "display_name": "Python 3 (ipykernel)",
   "language": "python",
   "name": "python3"
  },
  "language_info": {
   "codemirror_mode": {
    "name": "ipython",
    "version": 3
   },
   "file_extension": ".py",
   "mimetype": "text/x-python",
   "name": "python",
   "nbconvert_exporter": "python",
   "pygments_lexer": "ipython3",
   "version": "3.9.7"
  }
 },
 "nbformat": 4,
 "nbformat_minor": 5
}
