{
 "cells": [
  {
   "cell_type": "code",
   "execution_count": null,
   "id": "2ed3ce19-52b5-4e9e-8ce5-64fd4c168e25",
   "metadata": {},
   "outputs": [],
   "source": [
    "#  8494 무향 그래프\n",
    "\n",
    "# 입력값 받기\n",
    "N, M = map(int, input().split())\n",
    "\n",
    "# 그래프 초기화\n",
    "graph = [[0] * N for _ in range(N)]\n",
    "\n",
    "# 간선 정보 입력받기\n",
    "for i in range(M):\n",
    "    a, b = map(int, input().split())\n",
    "    # 무향 그래프이므로 양방향으로 연결\n",
    "    graph[a - 1][b - 1] = 1\n",
    "    graph[b - 1][a - 1] = 1\n",
    "\n",
    "# 결과 출력\n",
    "for row in graph:\n",
    "    print(*row)"
   ]
  }
 ],
 "metadata": {
  "kernelspec": {
   "display_name": "Python 3 (ipykernel)",
   "language": "python",
   "name": "python3"
  },
  "language_info": {
   "codemirror_mode": {
    "name": "ipython",
    "version": 3
   },
   "file_extension": ".py",
   "mimetype": "text/x-python",
   "name": "python",
   "nbconvert_exporter": "python",
   "pygments_lexer": "ipython3",
   "version": "3.9.7"
  }
 },
 "nbformat": 4,
 "nbformat_minor": 5
}
