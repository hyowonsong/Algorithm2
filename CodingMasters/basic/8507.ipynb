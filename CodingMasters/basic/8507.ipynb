{
 "cells": [
  {
   "cell_type": "code",
   "execution_count": null,
   "id": "8418044a-8a00-4b1f-9c48-4058960324c9",
   "metadata": {},
   "outputs": [],
   "source": [
    "# 8507 주사위의 합\n",
    "\n",
    "import sys\n",
    "n = int(sys.stdin.readline())\n",
    "\n",
    "for i in range(1,7):\n",
    "    for j in range(1, 7):\n",
    "        if i+j == n:\n",
    "            print(i, j)"
   ]
  }
 ],
 "metadata": {
  "kernelspec": {
   "display_name": "Python 3 (ipykernel)",
   "language": "python",
   "name": "python3"
  },
  "language_info": {
   "codemirror_mode": {
    "name": "ipython",
    "version": 3
   },
   "file_extension": ".py",
   "mimetype": "text/x-python",
   "name": "python",
   "nbconvert_exporter": "python",
   "pygments_lexer": "ipython3",
   "version": "3.9.7"
  }
 },
 "nbformat": 4,
 "nbformat_minor": 5
}
