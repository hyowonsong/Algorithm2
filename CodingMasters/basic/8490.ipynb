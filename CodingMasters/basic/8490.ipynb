{
 "cells": [
  {
   "cell_type": "code",
   "execution_count": null,
   "id": "80d29e88-bd22-404b-ba54-f60651c0eb3b",
   "metadata": {},
   "outputs": [],
   "source": [
    "# 8490 내 이름이 적힌 번호 찾기\n",
    "\n",
    "n, english_name = input().split()\n",
    "names = input().split()\n",
    "\n",
    "# 인덱스 사용!!\n",
    "print(names.index(english_name) + 1)"
   ]
  }
 ],
 "metadata": {
  "kernelspec": {
   "display_name": "Python 3 (ipykernel)",
   "language": "python",
   "name": "python3"
  },
  "language_info": {
   "codemirror_mode": {
    "name": "ipython",
    "version": 3
   },
   "file_extension": ".py",
   "mimetype": "text/x-python",
   "name": "python",
   "nbconvert_exporter": "python",
   "pygments_lexer": "ipython3",
   "version": "3.9.7"
  }
 },
 "nbformat": 4,
 "nbformat_minor": 5
}
