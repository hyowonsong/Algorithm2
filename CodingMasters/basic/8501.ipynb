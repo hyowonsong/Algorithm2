{
 "cells": [
  {
   "cell_type": "code",
   "execution_count": null,
   "id": "8df894ae-cb84-4faa-aa05-8719b6f160e7",
   "metadata": {},
   "outputs": [],
   "source": [
    "# 8501 배수 만들기\n",
    "\n",
    "N = int(input())\n",
    "numbers = list(map(int, input().split()))\n",
    "\n",
    "def solution(nums):\n",
    "    nums.sort(reverse=True)\n",
    "    total = sum(nums)\n",
    "    \n",
    "    # 숫자들의 합이 0인 경우\n",
    "    if total == 0:\n",
    "        return \"0\"\n",
    "    \n",
    "    # 숫자들의 합이 3의 배수가 아닌 경우\n",
    "    if total % 3 != 0:                                                                                 \n",
    "        return \"-1\"\n",
    "    \n",
    "    # 300의 배수인지 확인하는 함수\n",
    "    def is_multiple_of_300(num):\n",
    "        return num % 300 == 0\n",
    "    \n",
    "    # 숫자들을 이어붙여 만든 수가 300의 배수인지 확인\n",
    "    def check_multiple(nums):\n",
    "        num = int(''.join(map(str, nums)))\n",
    "        return is_multiple_of_300(num)\n",
    "    \n",
    "    # 300의 배수인지 확인하고 결과 반환\n",
    "    if check_multiple(nums):\n",
    "        return ''.join(map(str, nums))\n",
    "    else:\n",
    "        return \"-1\"\n",
    "\n",
    "# 결과 출력\n",
    "print(solution(numbers))\n"
   ]
  }
 ],
 "metadata": {
  "kernelspec": {
   "display_name": "Python 3 (ipykernel)",
   "language": "python",
   "name": "python3"
  },
  "language_info": {
   "codemirror_mode": {
    "name": "ipython",
    "version": 3
   },
   "file_extension": ".py",
   "mimetype": "text/x-python",
   "name": "python",
   "nbconvert_exporter": "python",
   "pygments_lexer": "ipython3",
   "version": "3.9.7"
  }
 },
 "nbformat": 4,
 "nbformat_minor": 5
}
