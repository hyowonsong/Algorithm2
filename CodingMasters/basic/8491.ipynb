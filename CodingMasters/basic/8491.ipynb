{
 "cells": [
  {
   "cell_type": "code",
   "execution_count": null,
   "id": "f472c433-5202-4a7a-a462-4e47f14fd2e4",
   "metadata": {},
   "outputs": [],
   "source": [
    "# 8491 정렬된 많은 원소 사이에서 특정 원소 찾기\n",
    "\n",
    "A, B = input().split()\n",
    "C = input().split()\n",
    "\n",
    "\n",
    "if B in C:\n",
    "    print(C.index(B) +1)\n",
    "else:\n",
    "    print(-1)"
   ]
  }
 ],
 "metadata": {
  "kernelspec": {
   "display_name": "Python 3 (ipykernel)",
   "language": "python",
   "name": "python3"
  },
  "language_info": {
   "codemirror_mode": {
    "name": "ipython",
    "version": 3
   },
   "file_extension": ".py",
   "mimetype": "text/x-python",
   "name": "python",
   "nbconvert_exporter": "python",
   "pygments_lexer": "ipython3",
   "version": "3.9.7"
  }
 },
 "nbformat": 4,
 "nbformat_minor": 5
}
