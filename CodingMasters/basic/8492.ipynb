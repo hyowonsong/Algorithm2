{
 "cells": [
  {
   "cell_type": "code",
   "execution_count": null,
   "id": "cbed95c0-fe97-4436-bc10-9571af5815ae",
   "metadata": {},
   "outputs": [],
   "source": [
    "# 8492 바닥 공사1\n",
    "\n",
    "# dp로 풀기\n",
    "\n",
    "# 입력값 받기\n",
    "n = int(input())\n",
    "\n",
    "def solution(n):\n",
    "    if n == 1:\n",
    "        return 1\n",
    "    if n == 2:\n",
    "        return 2\n",
    "    \n",
    "    dp = [0] * (n + 1)\n",
    "    dp[1] = 1\n",
    "    dp[2] = 2\n",
    "    \n",
    "    for i in range(3, n + 1):\n",
    "        dp[i] = (dp[i - 1] + dp[i - 2]) % 796796\n",
    "    return dp[n]\n",
    "\n",
    "# 결과 출력\n",
    "print(solution(n))"
   ]
  }
 ],
 "metadata": {
  "kernelspec": {
   "display_name": "Python 3 (ipykernel)",
   "language": "python",
   "name": "python3"
  },
  "language_info": {
   "codemirror_mode": {
    "name": "ipython",
    "version": 3
   },
   "file_extension": ".py",
   "mimetype": "text/x-python",
   "name": "python",
   "nbconvert_exporter": "python",
   "pygments_lexer": "ipython3",
   "version": "3.9.7"
  }
 },
 "nbformat": 4,
 "nbformat_minor": 5
}
