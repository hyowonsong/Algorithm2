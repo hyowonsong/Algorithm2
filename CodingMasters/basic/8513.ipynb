{
 "cells": [
  {
   "cell_type": "code",
   "execution_count": null,
   "id": "d6ae9605-da2e-46f0-ae1d-ce441320f8a5",
   "metadata": {},
   "outputs": [],
   "source": [
    "# 8513 파스칼 피라미드\n",
    "# 시뮬레이션\n",
    "\n",
    "import copy\n",
    "n = int(input())\n",
    "\n",
    "data = [[0] * n for _ in range(n)]\n",
    "data[0][0] = 1\n",
    "\n",
    "new = []\n",
    "for k in range(1, n):\n",
    "    new = copy.deepcopy(data)\n",
    "    for i in range(n):\n",
    "        for j in range(n):\n",
    "            if i + j <= k:\n",
    "                new[i][j] = data[i][j]\n",
    "                if 0 <= i-1:\n",
    "                    new[i][j] += data[i-1][j]\n",
    "                if 0 <= j-1:\n",
    "                    new[i][j] += data[i][j-1]\n",
    "    data = copy.deepcopy(new)\n",
    "    \n",
    "for i in range(n):\n",
    "    for j in range(n):\n",
    "        if data[i][j] != 0:\n",
    "            print(data[i][j], end=' ')\n",
    "    print()"
   ]
  }
 ],
 "metadata": {
  "kernelspec": {
   "display_name": "Python 3 (ipykernel)",
   "language": "python",
   "name": "python3"
  },
  "language_info": {
   "codemirror_mode": {
    "name": "ipython",
    "version": 3
   },
   "file_extension": ".py",
   "mimetype": "text/x-python",
   "name": "python",
   "nbconvert_exporter": "python",
   "pygments_lexer": "ipython3",
   "version": "3.9.7"
  }
 },
 "nbformat": 4,
 "nbformat_minor": 5
}
