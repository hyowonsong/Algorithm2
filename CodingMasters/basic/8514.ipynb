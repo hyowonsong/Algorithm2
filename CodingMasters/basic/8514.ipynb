{
 "cells": [
  {
   "cell_type": "code",
   "execution_count": null,
   "id": "92054f8b-8ddb-417e-afd2-286a784d0f7f",
   "metadata": {},
   "outputs": [],
   "source": [
    "# 8514. 오리 농법(성공)\n",
    "\n",
    "N = int(input())  # 밭의 가로와 세로의 길이\n",
    "field = []\n",
    "for _ in range(N):\n",
    "    row = list(map(int, input().split()))\n",
    "    field.append(row)\n",
    "\n",
    "def count_weeds(field):\n",
    "    # 행 검사\n",
    "    for i in range(len(field)):\n",
    "        if 1 in field[i]:  # 작물이 있는 행은 건너뜁니다.\n",
    "            continue\n",
    "        else:  # 작물이 없는 행은 잡초만 제거합니다.\n",
    "            for j in range(len(field[i])):\n",
    "                if field[i][j] == 2:\n",
    "                    field[i][j] = 0\n",
    "\n",
    "    # 열 검사\n",
    "    for j in range(len(field[0])):\n",
    "        column = [field[i][j] for i in range(len(field))]\n",
    "        if 1 in column:  # 작물이 있는 열은 건너뜁니다.\n",
    "            continue\n",
    "        else:  # 작물이 없는 열은 잡초만 제거합니다.\n",
    "            for i in range(len(field)):\n",
    "                if field[i][j] == 2:\n",
    "                    field[i][j] = 0\n",
    "\n",
    "    # 남아있는 잡초만 있는 땅의 개수를 세어 반환합니다.\n",
    "    return sum(row.count(2) for row in field)\n",
    "\n",
    "# 결과 출력\n",
    "print(count_weeds(field))\n"
   ]
  }
 ],
 "metadata": {
  "kernelspec": {
   "display_name": "Python 3 (ipykernel)",
   "language": "python",
   "name": "python3"
  },
  "language_info": {
   "codemirror_mode": {
    "name": "ipython",
    "version": 3
   },
   "file_extension": ".py",
   "mimetype": "text/x-python",
   "name": "python",
   "nbconvert_exporter": "python",
   "pygments_lexer": "ipython3",
   "version": "3.9.7"
  }
 },
 "nbformat": 4,
 "nbformat_minor": 5
}
