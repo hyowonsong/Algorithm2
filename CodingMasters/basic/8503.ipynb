{
 "cells": [
  {
   "cell_type": "code",
   "execution_count": null,
   "id": "0ebe38cb-8544-401a-95c0-640df4f84de5",
   "metadata": {},
   "outputs": [],
   "source": [
    "# 8503 기둥 세우기\n",
    "\n",
    "\n",
    "N, M = map(int, input().split())\n",
    "pillar = []\n",
    "count = 0\n",
    "\n",
    "# 입력받기 (1은 빈칸 , 0은 기둥있는 칸)\n",
    "for i in range(N) :\n",
    "    pillar.append(list(map(int, input().split())))\n",
    "\n",
    "# 기둥이 존재하는지 확인\n",
    "for i in range(N) :\n",
    "    if 0 not in pillar[i] :\n",
    "        count += 1\n",
    "    \n",
    "print(count)"
   ]
  }
 ],
 "metadata": {
  "kernelspec": {
   "display_name": "Python 3 (ipykernel)",
   "language": "python",
   "name": "python3"
  },
  "language_info": {
   "codemirror_mode": {
    "name": "ipython",
    "version": 3
   },
   "file_extension": ".py",
   "mimetype": "text/x-python",
   "name": "python",
   "nbconvert_exporter": "python",
   "pygments_lexer": "ipython3",
   "version": "3.9.7"
  }
 },
 "nbformat": 4,
 "nbformat_minor": 5
}
