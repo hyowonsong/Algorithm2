{
 "cells": [
  {
   "cell_type": "code",
   "execution_count": null,
   "id": "b71c21e1-5716-4246-8868-df9ad70c7058",
   "metadata": {},
   "outputs": [],
   "source": [
    "# 8499 몇 번씩 나올까\n",
    "\n",
    "N = int(input())\n",
    "\n",
    "def solution(N):\n",
    "    counts = [0] * 10                    # 횟수 저장 리스트 생성\n",
    "    \n",
    "    for i in range(1, N + 1):\n",
    "        for digit in str(i):           # 각 숫자를 문자열로 변환 후 숫자의 각 자리수 반복\n",
    "            counts[int(digit)] += 1    # 현재 자릿수의 숫자에 해당하는 인덱스 카운트 증가\n",
    "    return counts\n",
    "\n",
    "# solution 함수를 호출하여 반환된 리스트를 문자열로 변환하고, 공백을 구분자로 사용하여 출력\n",
    "print(' '.join(map(str, solution(N)))) "
   ]
  }
 ],
 "metadata": {
  "kernelspec": {
   "display_name": "Python 3 (ipykernel)",
   "language": "python",
   "name": "python3"
  },
  "language_info": {
   "codemirror_mode": {
    "name": "ipython",
    "version": 3
   },
   "file_extension": ".py",
   "mimetype": "text/x-python",
   "name": "python",
   "nbconvert_exporter": "python",
   "pygments_lexer": "ipython3",
   "version": "3.9.7"
  }
 },
 "nbformat": 4,
 "nbformat_minor": 5
}
