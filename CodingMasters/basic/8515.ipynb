{
 "cells": [
  {
   "cell_type": "code",
   "execution_count": null,
   "id": "64bf9c5e-dc25-4ee4-8548-cc511a96c58f",
   "metadata": {},
   "outputs": [],
   "source": [
    "# 8515. 분수를 소수로(성공)\n",
    "\n",
    "p, q = map(int, input().split())\n",
    "n = int(input())\n",
    "\n",
    "from decimal import Decimal, getcontext\n",
    "\n",
    "def solution(p, q, n):\n",
    "    getcontext().prec = n + 1  # 소수점 이하 n자리까지 정밀도 설정\n",
    "    result = Decimal(p) / Decimal(q)\n",
    "    return round(result, n)\n",
    "\n",
    "# 결과 출력\n",
    "print(solution(p, q, n))"
   ]
  }
 ],
 "metadata": {
  "kernelspec": {
   "display_name": "Python 3 (ipykernel)",
   "language": "python",
   "name": "python3"
  },
  "language_info": {
   "codemirror_mode": {
    "name": "ipython",
    "version": 3
   },
   "file_extension": ".py",
   "mimetype": "text/x-python",
   "name": "python",
   "nbconvert_exporter": "python",
   "pygments_lexer": "ipython3",
   "version": "3.9.7"
  }
 },
 "nbformat": 4,
 "nbformat_minor": 5
}
