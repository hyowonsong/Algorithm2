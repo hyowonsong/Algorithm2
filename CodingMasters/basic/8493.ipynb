{
 "cells": [
  {
   "cell_type": "code",
   "execution_count": null,
   "id": "c1398b42-a509-46e2-af81-0886f80a538b",
   "metadata": {},
   "outputs": [],
   "source": [
    "# 8493.사전 만들기\n",
    "\n",
    "N = int(input())\n",
    "words = set()  # 중복을 제거할 집합(set) 사용\n",
    "\n",
    "# N개의 단어 입력받기\n",
    "for _ in range(N):\n",
    "    word = input().strip()\n",
    "    words.add(word)  # 집합에 단어 추가\n",
    "\n",
    "# 중복 제거 후 정렬\n",
    "unique_words = sorted(words, key=lambda x: (len(x), x))\n",
    "\n",
    "# 결과 출력\n",
    "for word in unique_words:\n",
    "    print(word)"
   ]
  }
 ],
 "metadata": {
  "kernelspec": {
   "display_name": "Python 3 (ipykernel)",
   "language": "python",
   "name": "python3"
  },
  "language_info": {
   "codemirror_mode": {
    "name": "ipython",
    "version": 3
   },
   "file_extension": ".py",
   "mimetype": "text/x-python",
   "name": "python",
   "nbconvert_exporter": "python",
   "pygments_lexer": "ipython3",
   "version": "3.9.7"
  }
 },
 "nbformat": 4,
 "nbformat_minor": 5
}
