{
 "cells": [
  {
   "cell_type": "code",
   "execution_count": null,
   "id": "a4100466-0fcf-4ae8-b8f5-cd9168422fb3",
   "metadata": {},
   "outputs": [],
   "source": [
    "# 누적 합 -> 트리는 순환형 구조를 갖지 않는 그래프이다!!\n",
    "\n",
    "N = int(input())\n",
    "tree_list = []\n",
    "\n",
    "if N == 1:\n",
    "    print(int(input()))\n",
    "else :\n",
    "    num_list = list(map(int, input().split()))\n",
    "    \n",
    "    # 트리 높이 계산\n",
    "    height = len(num_list).bit_length()\n",
    "\n",
    "    # 누적합 트리 생성    \n",
    "    for i in range(height+1) :\n",
    "        tree_list.append([0]*(2**i))\n",
    "\n",
    "    # 제일 아래층에 값 채우기\n",
    "    for i in range(N):\n",
    "        tree_list[height][i] = num_list[i]\n",
    "\n",
    "    # 누적합 계산\n",
    "    for i in range(height, -1, -1):\n",
    "        for j in range(0, len(tree_list[i])//2):\n",
    "            tree_list[i-1][j] = tree_list[i][2*j] + tree_list[i][2*j+1]\n",
    "    # print(tree_list)\n",
    "\n",
    "    # 출력\n",
    "    for i in tree_list:\n",
    "        print(*i)"
   ]
  }
 ],
 "metadata": {
  "kernelspec": {
   "display_name": "Python 3 (ipykernel)",
   "language": "python",
   "name": "python3"
  },
  "language_info": {
   "codemirror_mode": {
    "name": "ipython",
    "version": 3
   },
   "file_extension": ".py",
   "mimetype": "text/x-python",
   "name": "python",
   "nbconvert_exporter": "python",
   "pygments_lexer": "ipython3",
   "version": "3.9.7"
  }
 },
 "nbformat": 4,
 "nbformat_minor": 5
}
