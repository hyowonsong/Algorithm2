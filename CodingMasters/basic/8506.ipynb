{
 "cells": [
  {
   "cell_type": "code",
   "execution_count": null,
   "id": "a2d9041d-28a9-48b4-8621-4344f320b1d6",
   "metadata": {},
   "outputs": [],
   "source": [
    "# 8506 구름 별\n",
    "\n",
    "N = int(input())\n",
    "\n",
    "def print_cloud_star(N):\n",
    "    for i in range(N):\n",
    "        # 공백을 출력하는 부분\n",
    "        for j in range(i):\n",
    "            print(\" \", end=\"\")\n",
    "        # 별을 출력하는 부분 (항상 2개 출력)\n",
    "        print(\"**\")\n",
    "\n",
    "# 구름 별 출력\n",
    "print_cloud_star(N)"
   ]
  }
 ],
 "metadata": {
  "kernelspec": {
   "display_name": "Python 3 (ipykernel)",
   "language": "python",
   "name": "python3"
  },
  "language_info": {
   "codemirror_mode": {
    "name": "ipython",
    "version": 3
   },
   "file_extension": ".py",
   "mimetype": "text/x-python",
   "name": "python",
   "nbconvert_exporter": "python",
   "pygments_lexer": "ipython3",
   "version": "3.9.7"
  }
 },
 "nbformat": 4,
 "nbformat_minor": 5
}
