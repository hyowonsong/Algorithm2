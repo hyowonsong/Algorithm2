{
 "cells": [
  {
   "cell_type": "code",
   "execution_count": null,
   "id": "cbb29d9d-3f02-4862-a7ba-ed1dc51e0f33",
   "metadata": {},
   "outputs": [],
   "source": [
    "# 가우스와 정다각형\n",
    "\n",
    "k = int(input())\n",
    "\n",
    "def solution(k):\n",
    "    fermat_primes = [3, 5, 17, 257, 65537]        # 이거 5개 밖에 없음\n",
    "    for prime in fermat_primes:\n",
    "        if k % prime == 0:\n",
    "            k //= prime\n",
    "    while k % 2 == 0:\n",
    "        k //= 2\n",
    "    return k == 1\n",
    "\n",
    "if solution(k):\n",
    "    print(\"YES\")\n",
    "else:\n",
    "    print(\"NO\")"
   ]
  }
 ],
 "metadata": {
  "kernelspec": {
   "display_name": "Python 3 (ipykernel)",
   "language": "python",
   "name": "python3"
  },
  "language_info": {
   "codemirror_mode": {
    "name": "ipython",
    "version": 3
   },
   "file_extension": ".py",
   "mimetype": "text/x-python",
   "name": "python",
   "nbconvert_exporter": "python",
   "pygments_lexer": "ipython3",
   "version": "3.9.7"
  }
 },
 "nbformat": 4,
 "nbformat_minor": 5
}
