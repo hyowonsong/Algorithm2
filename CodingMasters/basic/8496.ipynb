{
 "cells": [
  {
   "cell_type": "code",
   "execution_count": null,
   "id": "6f9a9eba-9831-43d7-82eb-184caac00c5f",
   "metadata": {},
   "outputs": [],
   "source": [
    "## 8496. 중앙값\n",
    "\n",
    "# 전체 값을 오름차순으로 정렬했을 때 가운데에 있는 수치 값\n",
    "\n",
    "n = list(map(int,input().split()))\n",
    "sorted_numbers = sorted(n)\n",
    "print(sorted_numbers[2])"
   ]
  }
 ],
 "metadata": {
  "kernelspec": {
   "display_name": "Python 3 (ipykernel)",
   "language": "python",
   "name": "python3"
  },
  "language_info": {
   "codemirror_mode": {
    "name": "ipython",
    "version": 3
   },
   "file_extension": ".py",
   "mimetype": "text/x-python",
   "name": "python",
   "nbconvert_exporter": "python",
   "pygments_lexer": "ipython3",
   "version": "3.9.7"
  }
 },
 "nbformat": 4,
 "nbformat_minor": 5
}
