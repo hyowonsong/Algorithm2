{
 "cells": [
  {
   "cell_type": "code",
   "execution_count": null,
   "id": "97de1be9-3768-44be-8fe8-36df2c6f2382",
   "metadata": {},
   "outputs": [],
   "source": [
    "# 8505 이별 30분 전\n",
    "\n",
    "hour, minute = map(int, input().split())\n",
    "\n",
    "def solution(hour, minute):\n",
    "    minute -= 30\n",
    "    \n",
    "    # 분이 음수가 되면 시간을 하나 줄이고 분을 60 더합니다.\n",
    "    if minute < 0:\n",
    "        hour -= 1\n",
    "        minute += 60\n",
    "    \n",
    "    # 시간이 음수가 되면 24를 더하여 조정합니다.\n",
    "    if hour < 0:\n",
    "        hour += 24   \n",
    "    return hour, minute\n",
    "\n",
    "print(*solution(hour, minute))"
   ]
  }
 ],
 "metadata": {
  "kernelspec": {
   "display_name": "Python 3 (ipykernel)",
   "language": "python",
   "name": "python3"
  },
  "language_info": {
   "codemirror_mode": {
    "name": "ipython",
    "version": 3
   },
   "file_extension": ".py",
   "mimetype": "text/x-python",
   "name": "python",
   "nbconvert_exporter": "python",
   "pygments_lexer": "ipython3",
   "version": "3.9.7"
  }
 },
 "nbformat": 4,
 "nbformat_minor": 5
}
