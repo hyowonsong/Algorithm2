{
 "cells": [
  {
   "cell_type": "code",
   "execution_count": null,
   "id": "e739d6ec-eba1-4b65-a913-1064e85ae680",
   "metadata": {},
   "outputs": [],
   "source": [
    "# 8512. 예비군 훈련(성공)\n",
    "\n",
    "# 예비군들이 받아야하는 훈련은 군별, 연차별, 신분별, 동원지정여부에 따라 달라짐\n",
    "# 군별 = 육, 해, 공군\n",
    "# 연차 = 현재년도 - 전역연도\n",
    "# 신분은 간부와 병\n",
    "# 동원지정여부는 전시에 동원소집부대가 정해져 있는지\n",
    "\n",
    "# 군별, 연차별, 신분별, 동원지정여부가 주어질 때,\n",
    "# 이 사람이 연간 받아야 할 훈련시간 출력\n",
    "\n",
    "\n",
    "# 입력값 받기\n",
    "A, B, C, D = input().split()\n",
    "\n",
    "def solution(year, branch, designation, status):\n",
    "    if designation == \"Private\":\n",
    "        # 0년차 동원 미지정\n",
    "        if year == 0 and status == \"N\":\n",
    "            return 0\n",
    "        # 1~4년차이면서 동원미지정 육해군, 아니면 28시간\n",
    "        elif 1 <= year <= 4:\n",
    "            if branch != \"ROKAF\" and status == \"N\":\n",
    "                return 32\n",
    "            else:\n",
    "                return 28\n",
    "        # 5 ~6년차 육해 공군 동원 미지\n",
    "        elif 5 <= year <= 6 and status == \"N\":\n",
    "            return 20\n",
    "    elif designation == \"Officer\":\n",
    "        if 0 <= year <= 6:\n",
    "            return 28\n",
    "    return -1  # 잘못된 입력이 들어온 경우\n",
    "\n",
    "\n",
    "print(solution(int(A), B, D, C))"
   ]
  }
 ],
 "metadata": {
  "kernelspec": {
   "display_name": "Python 3 (ipykernel)",
   "language": "python",
   "name": "python3"
  },
  "language_info": {
   "codemirror_mode": {
    "name": "ipython",
    "version": 3
   },
   "file_extension": ".py",
   "mimetype": "text/x-python",
   "name": "python",
   "nbconvert_exporter": "python",
   "pygments_lexer": "ipython3",
   "version": "3.9.7"
  }
 },
 "nbformat": 4,
 "nbformat_minor": 5
}
