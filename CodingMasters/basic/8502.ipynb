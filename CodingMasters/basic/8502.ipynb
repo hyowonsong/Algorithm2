{
 "cells": [
  {
   "cell_type": "code",
   "execution_count": null,
   "id": "e4824ae9-8cdc-4346-848c-0b2ae269d1cf",
   "metadata": {},
   "outputs": [],
   "source": [
    "# 8502. N을 보는 시각\n",
    "# 00:00:00부터 23:59:59까지의 초로 표현\n",
    "# 숫자 N이 몇 번 등장하는지 세어보기로 했습니다. \n",
    "\n",
    "N = int(input())\n",
    "\n",
    "def solution(N):\n",
    "    total_seconds = 0\n",
    "    for hour in range(24):\n",
    "        for minute in range(60):\n",
    "            for second in range(60):\n",
    "                time_str = f\"{hour:02d}:{minute:02d}:{second:02d}\"\n",
    "                # 시간을 문자열로 변환 후 해당 숫자가 포함되어 있는지 확인\n",
    "                if str(N) in time_str:\n",
    "                    total_seconds += 1\n",
    "    return total_seconds\n",
    "\n",
    "# 결과 출력\n",
    "print(solution(N))"
   ]
  }
 ],
 "metadata": {
  "kernelspec": {
   "display_name": "Python 3 (ipykernel)",
   "language": "python",
   "name": "python3"
  },
  "language_info": {
   "codemirror_mode": {
    "name": "ipython",
    "version": 3
   },
   "file_extension": ".py",
   "mimetype": "text/x-python",
   "name": "python",
   "nbconvert_exporter": "python",
   "pygments_lexer": "ipython3",
   "version": "3.9.7"
  }
 },
 "nbformat": 4,
 "nbformat_minor": 5
}
