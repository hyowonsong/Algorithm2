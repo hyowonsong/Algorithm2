{
 "cells": [
  {
   "cell_type": "code",
   "execution_count": null,
   "id": "eab30282-114e-44a3-9f2e-b5d9ffb7ef1a",
   "metadata": {},
   "outputs": [],
   "source": [
    "# 8500 조합\n",
    "\n",
    "import math\n",
    "\n",
    "# 입력값을 받습니다.\n",
    "A, B = map(int, input().split())\n",
    "\n",
    "def combinations(A, B):\n",
    "    return math.factorial(A)// (math.factorial(B) * math.factorial(A - B))\n",
    "print(combinations(A, B))"
   ]
  }
 ],
 "metadata": {
  "kernelspec": {
   "display_name": "Python 3 (ipykernel)",
   "language": "python",
   "name": "python3"
  },
  "language_info": {
   "codemirror_mode": {
    "name": "ipython",
    "version": 3
   },
   "file_extension": ".py",
   "mimetype": "text/x-python",
   "name": "python",
   "nbconvert_exporter": "python",
   "pygments_lexer": "ipython3",
   "version": "3.9.7"
  }
 },
 "nbformat": 4,
 "nbformat_minor": 5
}
