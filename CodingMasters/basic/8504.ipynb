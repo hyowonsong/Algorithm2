{
 "cells": [
  {
   "cell_type": "code",
   "execution_count": null,
   "id": "998cd431-5d4c-4417-91ee-e21b273e2fdf",
   "metadata": {},
   "outputs": [],
   "source": [
    "# 8504 설거지 담당\n",
    "\n",
    "dictionary = {1:'RUN', 2:'STAY', 3:'RUN', 4:'STAY', 5:'RUN', 6:'STAY', 7:'RUN'}\n",
    "\n",
    "# 요일의 번호 입력받기\n",
    "N = int(input())\n",
    "# RUN 또는 STAY 출력\n",
    "print(dictionary[N])"
   ]
  }
 ],
 "metadata": {
  "kernelspec": {
   "display_name": "Python 3 (ipykernel)",
   "language": "python",
   "name": "python3"
  },
  "language_info": {
   "codemirror_mode": {
    "name": "ipython",
    "version": 3
   },
   "file_extension": ".py",
   "mimetype": "text/x-python",
   "name": "python",
   "nbconvert_exporter": "python",
   "pygments_lexer": "ipython3",
   "version": "3.9.7"
  }
 },
 "nbformat": 4,
 "nbformat_minor": 5
}
