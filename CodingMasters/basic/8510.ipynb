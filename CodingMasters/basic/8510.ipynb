{
 "cells": [
  {
   "cell_type": "code",
   "execution_count": null,
   "id": "877b02cf-348b-4733-bd68-fe394f737e97",
   "metadata": {},
   "outputs": [],
   "source": [
    "# 8510 구간 단속(성공)\n",
    "\n",
    "# 정답1\n",
    "distance = int(input())  # 구간의 길이\n",
    "num_logs = int(input())  # 로그의 개수\n",
    "\n",
    "logs_start = []  # 출발점 로그를 저장할 리스트\n",
    "logs_end = []  # 도착점 로그를 저장할 리스트\n",
    "\n",
    "def parse_time(time_str):\n",
    "    hours, minutes, seconds = map(int, time_str.split(':'))\n",
    "    return hours * 3600 + minutes * 60 + seconds\n",
    "\n",
    "def calculate_speed(distance, start_time, end_time):\n",
    "    travel_time = end_time - start_time\n",
    "    if travel_time == 0:  # 이동하는 데 걸린 시간이 0인 경우\n",
    "        return 0\n",
    "    else:\n",
    "        speed = distance / (travel_time / 3600)  # 거리를 시간으로 나눠서 시간당 이동한 거리를 계산\n",
    "        return speed\n",
    "\n",
    "# 출발점 로그 입력 받기\n",
    "for _ in range(num_logs):\n",
    "    car_number, start_time = input().split()  # 차량번호, 출발 시간\n",
    "    logs_start.append((car_number, parse_time(start_time)))\n",
    "\n",
    "# 도착점 로그 입력 받기\n",
    "for _ in range(num_logs):\n",
    "    car_number, end_time = input().split()    # 차량번호, 도착 시간\n",
    "    logs_end.append((car_number, parse_time(end_time)))\n",
    "\n",
    "# 차량 번호 순으로 정렬\n",
    "logs_start.sort(key=lambda x: x[0])\n",
    "logs_end.sort(key=lambda x: x[0])\n",
    "\n",
    "# 결과 출력\n",
    "for start_log, end_log in zip(logs_start, logs_end):\n",
    "    car_number, start_time = start_log\n",
    "    _, end_time = end_log\n",
    "    \n",
    "    speed = calculate_speed(distance, start_time, end_time)\n",
    "    print(f\"{car_number} {int(speed)}\")  # 정수로 변환하여 출력\n"
   ]
  }
 ],
 "metadata": {
  "kernelspec": {
   "display_name": "Python 3 (ipykernel)",
   "language": "python",
   "name": "python3"
  },
  "language_info": {
   "codemirror_mode": {
    "name": "ipython",
    "version": 3
   },
   "file_extension": ".py",
   "mimetype": "text/x-python",
   "name": "python",
   "nbconvert_exporter": "python",
   "pygments_lexer": "ipython3",
   "version": "3.9.7"
  }
 },
 "nbformat": 4,
 "nbformat_minor": 5
}
