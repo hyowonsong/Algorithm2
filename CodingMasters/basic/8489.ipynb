{
 "cells": [
  {
   "cell_type": "code",
   "execution_count": null,
   "id": "243d5374-8721-4f27-8a21-126966d8a911",
   "metadata": {},
   "outputs": [],
   "source": [
    "# 8489 분리수거장\n",
    "\n",
    "# 입력값\n",
    "N = int(input())\n",
    "apartments = []\n",
    "for _ in range(N):\n",
    "    D, A = map(int, input().split())\n",
    "    apartments.append((D, A))\n",
    "\n",
    "\n",
    "def solution(N, apartments):\n",
    "    min_distance = float('inf')   # float('inf')로 초기화하여 최초에는 아주 큰 값으로 설정합니다.\n",
    "    min_distance_idx = -1        # -1로 초기화하여 아무 아파트도 선택되지 않은 상태를 나타냅니다.\n",
    "    \n",
    "    for i in range(N):\n",
    "        distance_sum = 0\n",
    "        for j in range(N):\n",
    "            distance_sum += abs(apartments[i][0] - apartments[j][0]) * apartments[j][1]\n",
    "        \n",
    "        if distance_sum < min_distance:\n",
    "            min_distance = distance_sum\n",
    "            min_distance_idx = i + 1 # 번호는 1부터 시작하므로 i+1을 사용하여 실제 아파트 번호를 저장\n",
    "    \n",
    "    return min_distance_idx\n",
    "\n",
    "\n",
    "# 함수 호출 및 결과 출력\n",
    "print(solution(N, apartments))"
   ]
  }
 ],
 "metadata": {
  "kernelspec": {
   "display_name": "Python 3 (ipykernel)",
   "language": "python",
   "name": "python3"
  },
  "language_info": {
   "codemirror_mode": {
    "name": "ipython",
    "version": 3
   },
   "file_extension": ".py",
   "mimetype": "text/x-python",
   "name": "python",
   "nbconvert_exporter": "python",
   "pygments_lexer": "ipython3",
   "version": "3.9.7"
  }
 },
 "nbformat": 4,
 "nbformat_minor": 5
}
